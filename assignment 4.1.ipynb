{
    "nbformat_minor": 1, 
    "cells": [
        {
            "source": "def readDataFrameFromCloudant(host,user,pw,database):\n    cloudantdata=spark.read.format(\"com.cloudant.spark\")  \n    option(\"cloudant.host\",\"5a5ca0d0-a845-441d-8020-1ea34e4a1f9d-bluemix.cloudant.com\") \n    option(\"cloudant.username\", \"5a5ca0d0-a845-441d-8020-1ea34e4a1f9d-bluemix\") \n    option(\"cloudant.password\", \"108282e59f7a62f999945d49ee3fd85f45773bebcfba2e84dea701da8fd55870\") \n    load(\"washing\")\n    cloudantdata.createOrReplaceTempView(\"washing\")\n    spark.sql(\"SELECT * from washing\").show() \n    return cloudant \n    ", 
            "cell_type": "code", 
            "execution_count": 1, 
            "outputs": [], 
            "metadata": {
                "collapsed": true
            }
        }, 
        {
            "source": "def getSample(df,spark):\n    \n    result = spark.sql(\"select voltage from washing where voltage is not null\")\n    result.rdd.map(lambda row : row.voltage).sample(False,0.1)\n        \n    return result  ", 
            "cell_type": "code", 
            "execution_count": 3, 
            "outputs": [], 
            "metadata": {
                "collapsed": true
            }
        }, 
        {
            "source": "def getListForHistogramAndBoxPlot(df,spark):\n       \n    result_array = [] \n    result_array = spark.sql(\"SELECT temperature FROM washing\").collect() \n       \n       \n    return result_array  ", 
            "cell_type": "code", 
            "execution_count": 2, 
            "outputs": [], 
            "metadata": {
                "collapsed": true
            }
        }, 
        {
            "source": "def getListsForRunChart(df,spark):\n\n    result = spark.sql(\"select voltage,ts from washing where voltage is not null order by ts asc\")\n    result_rdd = result.rdd.sample(False,0.1).map(lambda row : (row.ts,row.voltage))\n        \n    result_array_ts = result_rdd.map(lambda (ts,voltage): ts).collect() \n    result_array_voltage = result_rdd.map(lambda (ts,voltage): voltage).collect()       \n    result_tuple = result_array_ts,result_array_voltage  \n    \n    return result_tuple ", 
            "cell_type": "code", 
            "execution_count": 7, 
            "outputs": [], 
            "metadata": {
                "collapsed": true
            }
        }, 
        {
            "source": "", 
            "cell_type": "code", 
            "execution_count": null, 
            "outputs": [], 
            "metadata": {
                "collapsed": true
            }
        }
    ], 
    "nbformat": 4, 
    "metadata": {
        "kernelspec": {
            "display_name": "Python 2 with Spark 2.0 (Deprecated)", 
            "name": "python2-spark20", 
            "language": "python"
        }, 
        "language_info": {
            "mimetype": "text/x-python", 
            "nbconvert_exporter": "python", 
            "version": "2.7.14", 
            "name": "python", 
            "pygments_lexer": "ipython2", 
            "file_extension": ".py", 
            "codemirror_mode": {
                "version": 2, 
                "name": "ipython"
            }
        }
    }
}