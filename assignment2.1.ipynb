{
    "nbformat_minor": 1, 
    "cells": [
        {
            "source": "def readDataFrameFromCloudant(host,user,pw,database):\n    cloudantdata=spark.read.format(\"com.cloudant.spark\")\n    option (\"cloudant.host\", \"5a5ca0d0-a845-441d-8020-1ea34e4a1f9d-bluemix.cloudant.com\")\n    option (\"cloudant.username\", \"5a5ca0d0-a845-441d-8020-1ea34e4a1f9d-bluemix\")\n    option (\"cloudant.password\", \"108282e59f7a62f999945d49ee3fd85f45773bebcfba2e84dea701da8fd55870\")\n    load (\"washing\")\n    cloudantdata.createOrReplaceTempView(\"washing\")\n    spark.sql(\"SELECT * from washing\").show()\n    return cloudant \n            \n   \n    ", 
            "cell_type": "code", 
            "execution_count": 21, 
            "outputs": [], 
            "metadata": {
                "scrolled": true, 
                "collapsed": true
            }
        }, 
        {
            "source": "def count(df,spark):\n    \n    df = spark.sql(\"SELECT * FROM washing\")\n    print df.printSchema()\n    print df.count()\n            \n    return df.count()\n", 
            "cell_type": "code", 
            "execution_count": 22, 
            "outputs": [], 
            "metadata": {
                "collapsed": true
            }
        }, 
        {
            "source": "def getNumberOfFields(df,spark):\n    \n    len(df.columns)\n    \n    return len(df.columns)", 
            "cell_type": "code", 
            "execution_count": 23, 
            "outputs": [], 
            "metadata": {
                "collapsed": true
            }
        }, 
        {
            "source": "def getFieldNames(df,spark):\n    \n    df.columns\n    \n    return df.columns", 
            "cell_type": "code", 
            "execution_count": 24, 
            "outputs": [], 
            "metadata": {
                "collapsed": true
            }
        }
    ], 
    "nbformat": 4, 
    "metadata": {
        "kernelspec": {
            "display_name": "Python 2 with Spark 2.0 (Deprecated)", 
            "name": "python2-spark20", 
            "language": "python"
        }, 
        "language_info": {
            "mimetype": "text/x-python", 
            "nbconvert_exporter": "python", 
            "version": "2.7.14", 
            "name": "python", 
            "pygments_lexer": "ipython2", 
            "file_extension": ".py", 
            "codemirror_mode": {
                "version": 2, 
                "name": "ipython"
            }
        }
    }
}