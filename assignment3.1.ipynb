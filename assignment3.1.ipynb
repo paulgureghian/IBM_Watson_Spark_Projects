{
    "nbformat_minor": 1, 
    "cells": [
        {
            "source": "def readDataFrameFromCloudant(host,user,pw,database):\n    cloudantdata=spark.read.format(\"com.cloudant.spark\")  \n    option(\"cloudant.host\",\"5a5ca0d0-a845-441d-8020-1ea34e4a1f9d-bluemix.cloudant.com\") \n    option(\"cloudant.username\", \"5a5ca0d0-a845-441d-8020-1ea34e4a1f9d-bluemix\") \n    option(\"cloudant.password\", \"108282e59f7a62f999945d49ee3fd85f45773bebcfba2e84dea701da8fd55870\") \n    load(\"washing\")\n    cloudantdata.createOrReplaceTempView(\"washing\")\n    spark.sql(\"SELECT * from washing\").show() \n    return cloudant \n    ", 
            "cell_type": "code", 
            "execution_count": 1, 
            "outputs": [], 
            "metadata": {
                "collapsed": true
            }
        }, 
        {
            "source": "def minTemperature(df,spark):\n    \n    return spark.sql(\"SELECT min(temperature) as mintemp FROM washing\").first().mintemp \n    ", 
            "cell_type": "code", 
            "execution_count": 1, 
            "outputs": [], 
            "metadata": {
                "collapsed": true
            }
        }, 
        {
            "source": "def meanTemperature(df,spark):\n\n    return spark.sql(\"SELECT mean(temperature) as meantemp FROM washing\").first().meantemp\n", 
            "cell_type": "code", 
            "execution_count": 2, 
            "outputs": [], 
            "metadata": {
                "collapsed": true
            }
        }, 
        {
            "source": "def maxTemperature(df,spark):\n    \n    return spark.sql(\"SELECT max(temperature) as maxtemp FROM washing\").first().maxtemp\n", 
            "cell_type": "code", 
            "execution_count": 3, 
            "outputs": [], 
            "metadata": {
                "collapsed": true
            }
        }, 
        {
            "source": "def sdTemperature(df,spark):\n    \n    return spark.sql(\"SELECT stddev(temperature) as sdtemp FROM washing\").first().sdtemp\n", 
            "cell_type": "code", 
            "execution_count": 3, 
            "outputs": [], 
            "metadata": {
                "collapsed": true
            }
        }, 
        {
            "source": "def skewTemperature(df,spark):\n     \n    mean = meanTemperature(df,spark)\n    sd = sdTemperature(df,spark)\n       \n     \n    return spark.sql(\"\"\"SELECT skewness(temperature) * SUM(pow(mean,sd) as skewtemp FROM washing\"\"\").first().skewtemp \n    \n    ", 
            "cell_type": "code", 
            "execution_count": 7, 
            "outputs": [], 
            "metadata": {
                "collapsed": true
            }
        }, 
        {
            "source": "def kurtosisTemperature(df,spark):\n       \n        \n    return spark.sql(\"SELECT kurtosis(temperature) as kurtosistemp FROM washing\").first().kurtosistemp\n", 
            "cell_type": "code", 
            "execution_count": 5, 
            "outputs": [], 
            "metadata": {
                "collapsed": true
            }
        }, 
        {
            "source": "def correlationTemperatureHardness(df,spark):\n       \n       \n    return spark.sql(\"SELECT corr(temperature,hardness) as corrtemp FROM washing\").first().corrtemp \n", 
            "cell_type": "code", 
            "execution_count": 6, 
            "outputs": [], 
            "metadata": {
                "collapsed": true
            }
        }, 
        {
            "source": "", 
            "cell_type": "code", 
            "execution_count": null, 
            "outputs": [], 
            "metadata": {
                "collapsed": true
            }
        }
    ], 
    "nbformat": 4, 
    "metadata": {
        "kernelspec": {
            "display_name": "Python 2 with Spark 2.0 (Deprecated)", 
            "name": "python2-spark20", 
            "language": "python"
        }, 
        "language_info": {
            "mimetype": "text/x-python", 
            "nbconvert_exporter": "python", 
            "version": "2.7.14", 
            "name": "python", 
            "pygments_lexer": "ipython2", 
            "file_extension": ".py", 
            "codemirror_mode": {
                "version": 2, 
                "name": "ipython"
            }
        }
    }
}