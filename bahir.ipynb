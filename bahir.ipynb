{
    "nbformat_minor": 1, 
    "cells": [
        {
            "source": "import pixiedust\npixiedust.installPackage(\"https://www.romeokienzler.com/spark-sql-cloudant_2.11-2.3.0-SNAPSHOT.jar\")\npixiedust.installPackage(\"com.typesafe:config:1.3.1\")\npixiedust.installPackage(\"com.typesafe.play:play-json_2.11:jar:2.5.9\")\npixiedust.installPackage(\"org.scalaj:scalaj-http_2.11:jar:2.3.0\")\npixiedust.installPackage(\"com.typesafe.play:play-functional_2.11:jar:2.5.9\")", 
            "cell_type": "code", 
            "execution_count": 4, 
            "outputs": [
                {
                    "output_type": "stream", 
                    "name": "stdout", 
                    "text": "Pixiedust database opened successfully\n"
                }, 
                {
                    "output_type": "display_data", 
                    "data": {
                        "text/plain": "<IPython.core.display.HTML object>", 
                        "text/html": "\n        <div style=\"margin:10px\">\n            <a href=\"https://github.com/ibm-watson-data-lab/pixiedust\" target=\"_new\">\n                <img src=\"https://github.com/ibm-watson-data-lab/pixiedust/raw/master/docs/_static/pd_icon32.png\" style=\"float:left;margin-right:10px\"/>\n            </a>\n            <span>Pixiedust version 1.1.0</span>\n        </div>\n        "
                    }, 
                    "metadata": {}
                }, 
                {
                    "output_type": "display_data", 
                    "data": {
                        "text/plain": "<IPython.core.display.HTML object>", 
                        "text/html": "<div>Warning: You are not running the latest version of PixieDust. Current is 1.1.0, Latest is 1.1.0.1</div>"
                    }, 
                    "metadata": {}
                }, 
                {
                    "output_type": "display_data", 
                    "data": {
                        "text/plain": "<IPython.core.display.HTML object>", 
                        "text/html": "\n                <div>Please copy and run the following command in a new cell to upgrade: <span style=\"background-color:#ececec;font-family:monospace;padding:0 5px\">!pip install --user --upgrade pixiedust</span></div>\n            "
                    }, 
                    "metadata": {}
                }, 
                {
                    "output_type": "display_data", 
                    "data": {
                        "text/plain": "<IPython.core.display.HTML object>", 
                        "text/html": "<div>Please restart kernel after upgrading.</div>"
                    }, 
                    "metadata": {}
                }, 
                {
                    "output_type": "stream", 
                    "name": "stdout", 
                    "text": "Package already installed: https://www.romeokienzler.com/spark-sql-cloudant_2.11-2.3.0-SNAPSHOT.jar\nPackage already installed: com.typesafe:config:1.3.1\nPackage already installed: com.typesafe.play:play-json_2.11:2.5.9\nPackage already installed: org.scalaj:scalaj-http_2.11:2.3.0\nPackage already installed: com.typesafe.play:play-functional_2.11:2.5.9\n"
                }, 
                {
                    "output_type": "execute_result", 
                    "data": {
                        "text/plain": "<pixiedust.packageManager.package.Package at 0x7f769c276190>"
                    }, 
                    "execution_count": 4, 
                    "metadata": {}
                }
            ], 
            "metadata": {}
        }, 
        {
            "source": "!pip install --user --upgrade pixiedust", 
            "cell_type": "code", 
            "execution_count": null, 
            "outputs": [
                {
                    "output_type": "stream", 
                    "name": "stdout", 
                    "text": "Collecting pixiedust\n  Downloading pixiedust-1.1.0.1.tar.gz (156kB)\n\u001b[K    100% |\u2588\u2588\u2588\u2588\u2588\u2588\u2588\u2588\u2588\u2588\u2588\u2588\u2588\u2588\u2588\u2588\u2588\u2588\u2588\u2588\u2588\u2588\u2588\u2588\u2588\u2588\u2588\u2588\u2588\u2588\u2588\u2588| 163kB 1.8MB/s eta 0:00:01\n\u001b[?25hCollecting mpld3 (from pixiedust)\n  Downloading mpld3-0.3.tar.gz (788kB)\n\u001b[K    100% |\u2588\u2588\u2588\u2588\u2588\u2588\u2588\u2588\u2588\u2588\u2588\u2588\u2588\u2588\u2588\u2588\u2588\u2588\u2588\u2588\u2588\u2588\u2588\u2588\u2588\u2588\u2588\u2588\u2588\u2588\u2588\u2588| 798kB 1.4MB/s eta 0:00:01\n\u001b[?25hCollecting lxml (from pixiedust)\n  Downloading lxml-4.1.0-cp27-cp27mu-manylinux1_x86_64.whl (5.6MB)\n\u001b[K    100% |\u2588\u2588\u2588\u2588\u2588\u2588\u2588\u2588\u2588\u2588\u2588\u2588\u2588\u2588\u2588\u2588\u2588\u2588\u2588\u2588\u2588\u2588\u2588\u2588\u2588\u2588\u2588\u2588\u2588\u2588\u2588\u2588| 5.6MB 207kB/s eta 0:00:01\n\u001b[?25hCollecting geojson (from pixiedust)\n  Downloading geojson-2.3.0-py2.py3-none-any.whl\nCollecting jupyter_kernel_gateway (from pixiedust)\n  Downloading jupyter_kernel_gateway-2.0.1-py2.py3-none-any.whl (45kB)\n\u001b[K    100% |\u2588\u2588\u2588\u2588\u2588\u2588\u2588\u2588\u2588\u2588\u2588\u2588\u2588\u2588\u2588\u2588\u2588\u2588\u2588\u2588\u2588\u2588\u2588\u2588\u2588\u2588\u2588\u2588\u2588\u2588\u2588\u2588| 51kB 4.5MB/s eta 0:00:01\n\u001b[?25hRequirement already up-to-date: astunparse in /usr/local/src/bluemix_jupyter_bundle.v65/notebook/lib/python2.7/site-packages (from pixiedust)\nCollecting traitlets>=4.2.0 (from jupyter_kernel_gateway->pixiedust)\n  Downloading traitlets-4.3.2-py2.py3-none-any.whl (74kB)\n\u001b[K    100% |\u2588\u2588\u2588\u2588\u2588\u2588\u2588\u2588\u2588\u2588\u2588\u2588\u2588\u2588\u2588\u2588\u2588\u2588\u2588\u2588\u2588\u2588\u2588\u2588\u2588\u2588\u2588\u2588\u2588\u2588\u2588\u2588| 81kB 5.0MB/s eta 0:00:01\n\u001b[?25hCollecting tornado>=4.2.0 (from jupyter_kernel_gateway->pixiedust)\n  Downloading tornado-4.5.2.tar.gz (483kB)\n\u001b[K    100% |\u2588\u2588\u2588\u2588\u2588\u2588\u2588\u2588\u2588\u2588\u2588\u2588\u2588\u2588\u2588\u2588\u2588\u2588\u2588\u2588\u2588\u2588\u2588\u2588\u2588\u2588\u2588\u2588\u2588\u2588\u2588\u2588| 491kB 2.1MB/s eta 0:00:01\n\u001b[?25hRequirement already up-to-date: jupyter-client>=4.2.0 in /usr/local/src/bluemix_jupyter_bundle.v65/notebook/lib/python2.7/site-packages (from jupyter_kernel_gateway->pixiedust)\nRequirement already up-to-date: requests<3.0,>=2.7 in /usr/local/src/bluemix_jupyter_bundle.v65/notebook/lib/python2.7/site-packages (from jupyter_kernel_gateway->pixiedust)\nRequirement already up-to-date: jupyter-core>=4.0 in /usr/local/src/bluemix_jupyter_bundle.v65/notebook/lib/python2.7/site-packages (from jupyter_kernel_gateway->pixiedust)\nCollecting notebook<6.0,>=5.0.0 (from jupyter_kernel_gateway->pixiedust)\n  Downloading notebook-5.2.0-py2.py3-none-any.whl (8.0MB)\n\u001b[K    100% |\u2588\u2588\u2588\u2588\u2588\u2588\u2588\u2588\u2588\u2588\u2588\u2588\u2588\u2588\u2588\u2588\u2588\u2588\u2588\u2588\u2588\u2588\u2588\u2588\u2588\u2588\u2588\u2588\u2588\u2588\u2588\u2588| 8.0MB 151kB/s eta 0:00:01\n\u001b[?25hCollecting six<2.0,>=1.6.1 (from astunparse->pixiedust)\n  Downloading six-1.11.0-py2.py3-none-any.whl\nCollecting wheel<1.0,>=0.23.0 (from astunparse->pixiedust)\n  Downloading wheel-0.30.0-py2.py3-none-any.whl (49kB)\n\u001b[K    100% |\u2588\u2588\u2588\u2588\u2588\u2588\u2588\u2588\u2588\u2588\u2588\u2588\u2588\u2588\u2588\u2588\u2588\u2588\u2588\u2588\u2588\u2588\u2588\u2588\u2588\u2588\u2588\u2588\u2588\u2588\u2588\u2588| 51kB 6.7MB/s eta 0:00:01\n\u001b[?25hCollecting enum34; python_version == \"2.7\" (from traitlets>=4.2.0->jupyter_kernel_gateway->pixiedust)\n  Downloading enum34-1.1.6-py2-none-any.whl\nCollecting ipython-genutils (from traitlets>=4.2.0->jupyter_kernel_gateway->pixiedust)\n  Downloading ipython_genutils-0.2.0-py2.py3-none-any.whl\nCollecting decorator (from traitlets>=4.2.0->jupyter_kernel_gateway->pixiedust)\n  Downloading decorator-4.1.2-py2.py3-none-any.whl\nRequirement already up-to-date: singledispatch in /usr/local/src/bluemix_jupyter_bundle.v65/notebook/lib/python2.7/site-packages (from tornado>=4.2.0->jupyter_kernel_gateway->pixiedust)\nRequirement already up-to-date: certifi in /usr/local/src/bluemix_jupyter_bundle.v65/notebook/lib/python2.7/site-packages (from tornado>=4.2.0->jupyter_kernel_gateway->pixiedust)\nCollecting backports_abc>=0.4 (from tornado>=4.2.0->jupyter_kernel_gateway->pixiedust)\n  Downloading backports_abc-0.5-py2.py3-none-any.whl\nCollecting pyzmq>=13 (from jupyter-client>=4.2.0->jupyter_kernel_gateway->pixiedust)\n  Downloading pyzmq-16.0.2-cp27-cp27mu-manylinux1_x86_64.whl (3.0MB)\n\u001b[K    100% |\u2588\u2588\u2588\u2588\u2588\u2588\u2588\u2588\u2588\u2588\u2588\u2588\u2588\u2588\u2588\u2588\u2588\u2588\u2588\u2588\u2588\u2588\u2588\u2588\u2588\u2588\u2588\u2588\u2588\u2588\u2588\u2588| 3.0MB 385kB/s eta 0:00:01\n\u001b[?25hCollecting python-dateutil>=2.1 (from jupyter-client>=4.2.0->jupyter_kernel_gateway->pixiedust)\n  Downloading python_dateutil-2.6.1-py2.py3-none-any.whl (194kB)\n\u001b[K    100% |\u2588\u2588\u2588\u2588\u2588\u2588\u2588\u2588\u2588\u2588\u2588\u2588\u2588\u2588\u2588\u2588\u2588\u2588\u2588\u2588\u2588\u2588\u2588\u2588\u2588\u2588\u2588\u2588\u2588\u2588\u2588\u2588| 194kB 5.7MB/s eta 0:00:01\n\u001b[?25hRequirement already up-to-date: urllib3<1.23,>=1.21.1 in /usr/local/src/bluemix_jupyter_bundle.v65/notebook/lib/python2.7/site-packages (from requests<3.0,>=2.7->jupyter_kernel_gateway->pixiedust)\nRequirement already up-to-date: idna<2.7,>=2.5 in /usr/local/src/bluemix_jupyter_bundle.v65/notebook/lib/python2.7/site-packages (from requests<3.0,>=2.7->jupyter_kernel_gateway->pixiedust)\nCollecting chardet<3.1.0,>=3.0.2 (from requests<3.0,>=2.7->jupyter_kernel_gateway->pixiedust)\n  Downloading chardet-3.0.4-py2.py3-none-any.whl (133kB)\n\u001b[K    100% |\u2588\u2588\u2588\u2588\u2588\u2588\u2588\u2588\u2588\u2588\u2588\u2588\u2588\u2588\u2588\u2588\u2588\u2588\u2588\u2588\u2588\u2588\u2588\u2588\u2588\u2588\u2588\u2588\u2588\u2588\u2588\u2588| 143kB 7.5MB/s eta 0:00:01\n\u001b[?25hCollecting nbconvert (from notebook<6.0,>=5.0.0->jupyter_kernel_gateway->pixiedust)\n  Downloading nbconvert-5.3.1-py2.py3-none-any.whl (387kB)\n\u001b[K    100% |\u2588\u2588\u2588\u2588\u2588\u2588\u2588\u2588\u2588\u2588\u2588\u2588\u2588\u2588\u2588\u2588\u2588\u2588\u2588\u2588\u2588\u2588\u2588\u2588\u2588\u2588\u2588\u2588\u2588\u2588\u2588\u2588| 389kB 2.8MB/s eta 0:00:01\n\u001b[?25hCollecting terminado>=0.3.3; sys_platform != \"win32\" (from notebook<6.0,>=5.0.0->jupyter_kernel_gateway->pixiedust)\n  Downloading terminado-0.6.tar.gz\nRequirement already up-to-date: ipykernel in /usr/local/src/bluemix_jupyter_bundle.v65/notebook/lib/python2.7/site-packages (from notebook<6.0,>=5.0.0->jupyter_kernel_gateway->pixiedust)\nCollecting nbformat (from notebook<6.0,>=5.0.0->jupyter_kernel_gateway->pixiedust)\n  Downloading nbformat-4.4.0-py2.py3-none-any.whl (155kB)\n\u001b[K    100% |\u2588\u2588\u2588\u2588\u2588\u2588\u2588\u2588\u2588\u2588\u2588\u2588\u2588\u2588\u2588\u2588\u2588\u2588\u2588\u2588\u2588\u2588\u2588\u2588\u2588\u2588\u2588\u2588\u2588\u2588\u2588\u2588| 163kB 6.6MB/s eta 0:00:01\n\u001b[?25hCollecting jinja2 (from notebook<6.0,>=5.0.0->jupyter_kernel_gateway->pixiedust)\n  Downloading Jinja2-2.9.6-py2.py3-none-any.whl (340kB)\n\u001b[K    100% |\u2588\u2588\u2588\u2588\u2588\u2588\u2588\u2588\u2588\u2588\u2588\u2588\u2588\u2588\u2588\u2588\u2588\u2588\u2588\u2588\u2588\u2588\u2588\u2588\u2588\u2588\u2588\u2588\u2588\u2588\u2588\u2588| 348kB 5.6MB/s eta 0:00:01\n\u001b[?25hCollecting pygments (from nbconvert->notebook<6.0,>=5.0.0->jupyter_kernel_gateway->pixiedust)\n  Downloading Pygments-2.2.0-py2.py3-none-any.whl (841kB)\n\u001b[K    100% |\u2588\u2588\u2588\u2588\u2588\u2588\u2588\u2588\u2588\u2588\u2588\u2588\u2588\u2588\u2588\u2588\u2588\u2588\u2588\u2588\u2588\u2588\u2588\u2588\u2588\u2588\u2588\u2588\u2588\u2588\u2588\u2588| 849kB 1.4MB/s eta 0:00:01\n\u001b[?25hCollecting pandocfilters>=1.4.1 (from nbconvert->notebook<6.0,>=5.0.0->jupyter_kernel_gateway->pixiedust)\n  Downloading pandocfilters-1.4.2.tar.gz\nRequirement already up-to-date: testpath in /usr/local/src/bluemix_jupyter_bundle.v65/notebook/lib/python2.7/site-packages (from nbconvert->notebook<6.0,>=5.0.0->jupyter_kernel_gateway->pixiedust)\nCollecting entrypoints>=0.2.2 (from nbconvert->notebook<6.0,>=5.0.0->jupyter_kernel_gateway->pixiedust)\n  Downloading entrypoints-0.2.3-py2.py3-none-any.whl\nCollecting mistune>=0.7.4 (from nbconvert->notebook<6.0,>=5.0.0->jupyter_kernel_gateway->pixiedust)\n  Downloading mistune-0.7.4-py2.py3-none-any.whl\nCollecting bleach (from nbconvert->notebook<6.0,>=5.0.0->jupyter_kernel_gateway->pixiedust)\n  Downloading bleach-2.1.1-py2.py3-none-any.whl\nCollecting ptyprocess (from terminado>=0.3.3; sys_platform != \"win32\"->notebook<6.0,>=5.0.0->jupyter_kernel_gateway->pixiedust)\n  Downloading ptyprocess-0.5.2-py2.py3-none-any.whl\nCollecting ipython>=4.0.0 (from ipykernel->notebook<6.0,>=5.0.0->jupyter_kernel_gateway->pixiedust)\n  Downloading ipython-5.5.0-py2-none-any.whl (758kB)\n\u001b[K    100% |\u2588\u2588\u2588\u2588\u2588\u2588\u2588\u2588\u2588\u2588\u2588\u2588\u2588\u2588\u2588\u2588\u2588\u2588\u2588\u2588\u2588\u2588\u2588\u2588\u2588\u2588\u2588\u2588\u2588\u2588\u2588\u2588| 768kB 1.6MB/s eta 0:00:01\n\u001b[?25hCollecting jsonschema!=2.5.0,>=2.4 (from nbformat->notebook<6.0,>=5.0.0->jupyter_kernel_gateway->pixiedust)\n  Downloading jsonschema-2.6.0-py2.py3-none-any.whl\nCollecting MarkupSafe>=0.23 (from jinja2->notebook<6.0,>=5.0.0->jupyter_kernel_gateway->pixiedust)\n  Downloading MarkupSafe-1.0.tar.gz\nRequirement already up-to-date: configparser>=3.5; python_version == \"2.7\" in /usr/local/src/bluemix_jupyter_bundle.v65/notebook/lib/python2.7/site-packages (from entrypoints>=0.2.2->nbconvert->notebook<6.0,>=5.0.0->jupyter_kernel_gateway->pixiedust)\nCollecting html5lib!=1.0b1,!=1.0b2,!=1.0b3,!=1.0b4,!=1.0b5,!=1.0b6,!=1.0b7,!=1.0b8,>=0.99999999pre (from bleach->nbconvert->notebook<6.0,>=5.0.0->jupyter_kernel_gateway->pixiedust)\n  Downloading html5lib-1.0b10-py2.py3-none-any.whl (112kB)\n\u001b[K    100% |\u2588\u2588\u2588\u2588\u2588\u2588\u2588\u2588\u2588\u2588\u2588\u2588\u2588\u2588\u2588\u2588\u2588\u2588\u2588\u2588\u2588\u2588\u2588\u2588\u2588\u2588\u2588\u2588\u2588\u2588\u2588\u2588| 112kB 8.3MB/s eta 0:00:01\n\u001b[?25hCollecting prompt-toolkit<2.0.0,>=1.0.4 (from ipython>=4.0.0->ipykernel->notebook<6.0,>=5.0.0->jupyter_kernel_gateway->pixiedust)\n  Downloading prompt_toolkit-1.0.15-py2-none-any.whl (247kB)\n\u001b[K    100% |\u2588\u2588\u2588\u2588\u2588\u2588\u2588\u2588\u2588\u2588\u2588\u2588\u2588\u2588\u2588\u2588\u2588\u2588\u2588\u2588\u2588\u2588\u2588\u2588\u2588\u2588\u2588\u2588\u2588\u2588\u2588\u2588| 256kB 2.2MB/s eta 0:00:01\n\u001b[?25hRequirement already up-to-date: backports.shutil-get-terminal-size; python_version == \"2.7\" in /usr/local/src/bluemix_jupyter_bundle.v65/notebook/lib/python2.7/site-packages (from ipython>=4.0.0->ipykernel->notebook<6.0,>=5.0.0->jupyter_kernel_gateway->pixiedust)\nCollecting pickleshare (from ipython>=4.0.0->ipykernel->notebook<6.0,>=5.0.0->jupyter_kernel_gateway->pixiedust)\n  Downloading pickleshare-0.7.4-py2.py3-none-any.whl\n"
                }, 
                {
                    "output_type": "stream", 
                    "name": "stdout", 
                    "text": "Collecting pexpect; sys_platform != \"win32\" (from ipython>=4.0.0->ipykernel->notebook<6.0,>=5.0.0->jupyter_kernel_gateway->pixiedust)\n  Downloading pexpect-4.2.1-py2.py3-none-any.whl (55kB)\n\u001b[K    100% |\u2588\u2588\u2588\u2588\u2588\u2588\u2588\u2588\u2588\u2588\u2588\u2588\u2588\u2588\u2588\u2588\u2588\u2588\u2588\u2588\u2588\u2588\u2588\u2588\u2588\u2588\u2588\u2588\u2588\u2588\u2588\u2588| 61kB 6.8MB/s eta 0:00:01\n\u001b[?25hCollecting pathlib2; python_version == \"2.7\" or python_version == \"3.3\" (from ipython>=4.0.0->ipykernel->notebook<6.0,>=5.0.0->jupyter_kernel_gateway->pixiedust)\n  Downloading pathlib2-2.3.0-py2.py3-none-any.whl\nRequirement already up-to-date: simplegeneric>0.8 in /usr/local/src/bluemix_jupyter_bundle.v65/notebook/lib/python2.7/site-packages (from ipython>=4.0.0->ipykernel->notebook<6.0,>=5.0.0->jupyter_kernel_gateway->pixiedust)\nCollecting setuptools>=18.5 (from ipython>=4.0.0->ipykernel->notebook<6.0,>=5.0.0->jupyter_kernel_gateway->pixiedust)\n  Downloading setuptools-36.6.0-py2.py3-none-any.whl (481kB)\n\u001b[K    100% |\u2588\u2588\u2588\u2588\u2588\u2588\u2588\u2588\u2588\u2588\u2588\u2588\u2588\u2588\u2588\u2588\u2588\u2588\u2588\u2588\u2588\u2588\u2588\u2588\u2588\u2588\u2588\u2588\u2588\u2588\u2588\u2588| 481kB 2.3MB/s eta 0:00:01\n\u001b[?25hRequirement already up-to-date: functools32; python_version == \"2.7\" in /usr/local/src/bluemix_jupyter_bundle.v65/notebook/lib/python2.7/site-packages (from jsonschema!=2.5.0,>=2.4->nbformat->notebook<6.0,>=5.0.0->jupyter_kernel_gateway->pixiedust)\nRequirement already up-to-date: webencodings in /usr/local/src/bluemix_jupyter_bundle.v65/notebook/lib/python2.7/site-packages (from html5lib!=1.0b1,!=1.0b2,!=1.0b3,!=1.0b4,!=1.0b5,!=1.0b6,!=1.0b7,!=1.0b8,>=0.99999999pre->bleach->nbconvert->notebook<6.0,>=5.0.0->jupyter_kernel_gateway->pixiedust)\nRequirement already up-to-date: wcwidth in /usr/local/src/bluemix_jupyter_bundle.v65/notebook/lib/python2.7/site-packages (from prompt-toolkit<2.0.0,>=1.0.4->ipython>=4.0.0->ipykernel->notebook<6.0,>=5.0.0->jupyter_kernel_gateway->pixiedust)\nCollecting scandir; python_version < \"3.5\" (from pathlib2; python_version == \"2.7\" or python_version == \"3.3\"->ipython>=4.0.0->ipykernel->notebook<6.0,>=5.0.0->jupyter_kernel_gateway->pixiedust)\n  Downloading scandir-1.6.tar.gz\nBuilding wheels for collected packages: pixiedust, mpld3, tornado, terminado, pandocfilters, MarkupSafe, scandir\n  Running setup.py bdist_wheel for pixiedust ... \u001b[?25ldone\n\u001b[?25h  Stored in directory: /gpfs/fs01/user/s4c5-69878cbc669e9b-ebfa38fd5c87/.cache/pip/wheels/86/b7/40/9ddeae0de46cae45d7922fc7be711e35d4159febcbf642f943\n  Running setup.py bdist_wheel for mpld3 ... \u001b[?25ldone\n\u001b[?25h  Stored in directory: /gpfs/fs01/user/s4c5-69878cbc669e9b-ebfa38fd5c87/.cache/pip/wheels/69/bc/68/7ca3b696749d183e998968fc24b0ff3c5e119d9e68bf495b07\n  Running setup.py bdist_wheel for tornado ... \u001b[?25ldone\n\u001b[?25h  Stored in directory: /gpfs/fs01/user/s4c5-69878cbc669e9b-ebfa38fd5c87/.cache/pip/wheels/b3/47/3a/96e12476829cb196adabc879fedb72f1bb2c8613b6961e78e7\n  Running setup.py bdist_wheel for terminado ... \u001b[?25ldone\n\u001b[?25h  Stored in directory: /gpfs/fs01/user/s4c5-69878cbc669e9b-ebfa38fd5c87/.cache/pip/wheels/3b/c2/ea/af635ffb63857a8c2ddd22da6a4b52f5b7ea3065db94ef5d7c\n  Running setup.py bdist_wheel for pandocfilters ... \u001b[?25ldone\n\u001b[?25h  Stored in directory: /gpfs/fs01/user/s4c5-69878cbc669e9b-ebfa38fd5c87/.cache/pip/wheels/08/5b/5b/66b3cde6f8215f8345479ef3699d6ddbb860f6ea7072008f8b\n  Running setup.py bdist_wheel for MarkupSafe ... \u001b[?25ldone\n\u001b[?25h  Stored in directory: /gpfs/fs01/user/s4c5-69878cbc669e9b-ebfa38fd5c87/.cache/pip/wheels/88/a7/30/e39a54a87bcbe25308fa3ca64e8ddc75d9b3e5afa21ee32d57\n  Running setup.py bdist_wheel for scandir ... \u001b[?25ldone\n\u001b[?25h  Stored in directory: /gpfs/fs01/user/s4c5-69878cbc669e9b-ebfa38fd5c87/.cache/pip/wheels/6e/33/69/090d9633efb6fe3c8077c40e1676819ed8d5a59b41cc9a5bea\nSuccessfully built pixiedust mpld3 tornado terminado pandocfilters MarkupSafe scandir\nInstalling collected packages: mpld3, lxml, geojson, enum34, six, ipython-genutils, decorator, traitlets, backports-abc, tornado, pygments, MarkupSafe, jinja2, pandocfilters, entrypoints, jsonschema, nbformat, mistune, setuptools, html5lib, bleach, nbconvert, ptyprocess, terminado, notebook, jupyter-kernel-gateway, pixiedust, wheel, pyzmq, python-dateutil, chardet, prompt-toolkit, scandir, pathlib2, pickleshare, pexpect, ipython\n"
                }
            ], 
            "metadata": {}
        }, 
        {
            "source": "", 
            "cell_type": "code", 
            "execution_count": null, 
            "outputs": [], 
            "metadata": {
                "collapsed": true
            }
        }
    ], 
    "nbformat": 4, 
    "metadata": {
        "kernelspec": {
            "display_name": "Python 2 with Spark 2.0", 
            "name": "python2-spark20", 
            "language": "python"
        }, 
        "language_info": {
            "mimetype": "text/x-python", 
            "nbconvert_exporter": "python", 
            "version": "2.7.11", 
            "name": "python", 
            "pygments_lexer": "ipython2", 
            "file_extension": ".py", 
            "codemirror_mode": {
                "version": 2, 
                "name": "ipython"
            }
        }
    }
}